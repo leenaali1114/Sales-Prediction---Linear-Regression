{
  "cells": [
    {
      "cell_type": "markdown",
      "metadata": {
        "id": "bIpp9_CVXJjH"
      },
      "source": [
        "# Sales Prediction"
      ]
    },
    {
      "cell_type": "markdown",
      "metadata": {
        "id": "7pnTlm1nXJjJ"
      },
      "source": [
        "The aim is to build a model which predicts sales based on the money spent on different platforms such as TV, radio, and newspaper for marketing."
      ]
    },
    {
      "cell_type": "code",
      "execution_count": 2,
      "metadata": {
        "id": "ezkxb39aXJjJ"
      },
      "outputs": [],
      "source": [
        "#Importing the libraries\n",
        "import pandas as pd\n",
        "import numpy as np\n",
        "import matplotlib.pyplot as plt\n",
        "import seaborn as sns"
      ]
    },
    {
      "cell_type": "code",
      "execution_count": 4,
      "metadata": {
        "id": "3LMGjj_fXJjL"
      },
      "outputs": [],
      "source": [
        "#Reading the dataset\n",
        "dataset = pd.read_csv(\"https://raw.githubusercontent.com/Harshita0109/Sales-Prediction/master/advertising.csv\")"
      ]
    },
    {
      "cell_type": "code",
      "execution_count": 5,
      "metadata": {
        "colab": {
          "base_uri": "https://localhost:8080/",
          "height": 206
        },
        "id": "qfD-k_vAXJjL",
        "outputId": "03b4b783-26e4-4974-b3ec-c63e3c747593"
      },
      "outputs": [
        {
          "output_type": "execute_result",
          "data": {
            "text/plain": [
              "      TV  Radio  Newspaper  Sales\n",
              "0  230.1   37.8       69.2   22.1\n",
              "1   44.5   39.3       45.1   10.4\n",
              "2   17.2   45.9       69.3   12.0\n",
              "3  151.5   41.3       58.5   16.5\n",
              "4  180.8   10.8       58.4   17.9"
            ],
            "text/html": [
              "\n",
              "  <div id=\"df-9a2b4c51-04d6-4858-bd76-ea20f367fb19\">\n",
              "    <div class=\"colab-df-container\">\n",
              "      <div>\n",
              "<style scoped>\n",
              "    .dataframe tbody tr th:only-of-type {\n",
              "        vertical-align: middle;\n",
              "    }\n",
              "\n",
              "    .dataframe tbody tr th {\n",
              "        vertical-align: top;\n",
              "    }\n",
              "\n",
              "    .dataframe thead th {\n",
              "        text-align: right;\n",
              "    }\n",
              "</style>\n",
              "<table border=\"1\" class=\"dataframe\">\n",
              "  <thead>\n",
              "    <tr style=\"text-align: right;\">\n",
              "      <th></th>\n",
              "      <th>TV</th>\n",
              "      <th>Radio</th>\n",
              "      <th>Newspaper</th>\n",
              "      <th>Sales</th>\n",
              "    </tr>\n",
              "  </thead>\n",
              "  <tbody>\n",
              "    <tr>\n",
              "      <th>0</th>\n",
              "      <td>230.1</td>\n",
              "      <td>37.8</td>\n",
              "      <td>69.2</td>\n",
              "      <td>22.1</td>\n",
              "    </tr>\n",
              "    <tr>\n",
              "      <th>1</th>\n",
              "      <td>44.5</td>\n",
              "      <td>39.3</td>\n",
              "      <td>45.1</td>\n",
              "      <td>10.4</td>\n",
              "    </tr>\n",
              "    <tr>\n",
              "      <th>2</th>\n",
              "      <td>17.2</td>\n",
              "      <td>45.9</td>\n",
              "      <td>69.3</td>\n",
              "      <td>12.0</td>\n",
              "    </tr>\n",
              "    <tr>\n",
              "      <th>3</th>\n",
              "      <td>151.5</td>\n",
              "      <td>41.3</td>\n",
              "      <td>58.5</td>\n",
              "      <td>16.5</td>\n",
              "    </tr>\n",
              "    <tr>\n",
              "      <th>4</th>\n",
              "      <td>180.8</td>\n",
              "      <td>10.8</td>\n",
              "      <td>58.4</td>\n",
              "      <td>17.9</td>\n",
              "    </tr>\n",
              "  </tbody>\n",
              "</table>\n",
              "</div>\n",
              "      <button class=\"colab-df-convert\" onclick=\"convertToInteractive('df-9a2b4c51-04d6-4858-bd76-ea20f367fb19')\"\n",
              "              title=\"Convert this dataframe to an interactive table.\"\n",
              "              style=\"display:none;\">\n",
              "        \n",
              "  <svg xmlns=\"http://www.w3.org/2000/svg\" height=\"24px\"viewBox=\"0 0 24 24\"\n",
              "       width=\"24px\">\n",
              "    <path d=\"M0 0h24v24H0V0z\" fill=\"none\"/>\n",
              "    <path d=\"M18.56 5.44l.94 2.06.94-2.06 2.06-.94-2.06-.94-.94-2.06-.94 2.06-2.06.94zm-11 1L8.5 8.5l.94-2.06 2.06-.94-2.06-.94L8.5 2.5l-.94 2.06-2.06.94zm10 10l.94 2.06.94-2.06 2.06-.94-2.06-.94-.94-2.06-.94 2.06-2.06.94z\"/><path d=\"M17.41 7.96l-1.37-1.37c-.4-.4-.92-.59-1.43-.59-.52 0-1.04.2-1.43.59L10.3 9.45l-7.72 7.72c-.78.78-.78 2.05 0 2.83L4 21.41c.39.39.9.59 1.41.59.51 0 1.02-.2 1.41-.59l7.78-7.78 2.81-2.81c.8-.78.8-2.07 0-2.86zM5.41 20L4 18.59l7.72-7.72 1.47 1.35L5.41 20z\"/>\n",
              "  </svg>\n",
              "      </button>\n",
              "      \n",
              "  <style>\n",
              "    .colab-df-container {\n",
              "      display:flex;\n",
              "      flex-wrap:wrap;\n",
              "      gap: 12px;\n",
              "    }\n",
              "\n",
              "    .colab-df-convert {\n",
              "      background-color: #E8F0FE;\n",
              "      border: none;\n",
              "      border-radius: 50%;\n",
              "      cursor: pointer;\n",
              "      display: none;\n",
              "      fill: #1967D2;\n",
              "      height: 32px;\n",
              "      padding: 0 0 0 0;\n",
              "      width: 32px;\n",
              "    }\n",
              "\n",
              "    .colab-df-convert:hover {\n",
              "      background-color: #E2EBFA;\n",
              "      box-shadow: 0px 1px 2px rgba(60, 64, 67, 0.3), 0px 1px 3px 1px rgba(60, 64, 67, 0.15);\n",
              "      fill: #174EA6;\n",
              "    }\n",
              "\n",
              "    [theme=dark] .colab-df-convert {\n",
              "      background-color: #3B4455;\n",
              "      fill: #D2E3FC;\n",
              "    }\n",
              "\n",
              "    [theme=dark] .colab-df-convert:hover {\n",
              "      background-color: #434B5C;\n",
              "      box-shadow: 0px 1px 3px 1px rgba(0, 0, 0, 0.15);\n",
              "      filter: drop-shadow(0px 1px 2px rgba(0, 0, 0, 0.3));\n",
              "      fill: #FFFFFF;\n",
              "    }\n",
              "  </style>\n",
              "\n",
              "      <script>\n",
              "        const buttonEl =\n",
              "          document.querySelector('#df-9a2b4c51-04d6-4858-bd76-ea20f367fb19 button.colab-df-convert');\n",
              "        buttonEl.style.display =\n",
              "          google.colab.kernel.accessAllowed ? 'block' : 'none';\n",
              "\n",
              "        async function convertToInteractive(key) {\n",
              "          const element = document.querySelector('#df-9a2b4c51-04d6-4858-bd76-ea20f367fb19');\n",
              "          const dataTable =\n",
              "            await google.colab.kernel.invokeFunction('convertToInteractive',\n",
              "                                                     [key], {});\n",
              "          if (!dataTable) return;\n",
              "\n",
              "          const docLinkHtml = 'Like what you see? Visit the ' +\n",
              "            '<a target=\"_blank\" href=https://colab.research.google.com/notebooks/data_table.ipynb>data table notebook</a>'\n",
              "            + ' to learn more about interactive tables.';\n",
              "          element.innerHTML = '';\n",
              "          dataTable['output_type'] = 'display_data';\n",
              "          await google.colab.output.renderOutput(dataTable, element);\n",
              "          const docLink = document.createElement('div');\n",
              "          docLink.innerHTML = docLinkHtml;\n",
              "          element.appendChild(docLink);\n",
              "        }\n",
              "      </script>\n",
              "    </div>\n",
              "  </div>\n",
              "  "
            ]
          },
          "metadata": {},
          "execution_count": 5
        }
      ],
      "source": [
        "dataset.head()"
      ]
    },
    {
      "cell_type": "markdown",
      "metadata": {
        "id": "ZpUXP8lMXJjM"
      },
      "source": [
        "# Data Pre-Processing"
      ]
    },
    {
      "cell_type": "code",
      "execution_count": 6,
      "metadata": {
        "colab": {
          "base_uri": "https://localhost:8080/"
        },
        "id": "BL3-maj-XJjM",
        "outputId": "f0aee913-202c-490f-d24f-11525affba49"
      },
      "outputs": [
        {
          "output_type": "execute_result",
          "data": {
            "text/plain": [
              "(200, 4)"
            ]
          },
          "metadata": {},
          "execution_count": 6
        }
      ],
      "source": [
        "dataset.shape"
      ]
    },
    {
      "cell_type": "markdown",
      "metadata": {
        "id": "lDXeTqFeXJjM"
      },
      "source": [
        "**1. Checking for missing values**"
      ]
    },
    {
      "cell_type": "code",
      "execution_count": 7,
      "metadata": {
        "colab": {
          "base_uri": "https://localhost:8080/"
        },
        "id": "gEgXKBuhXJjM",
        "outputId": "4d83ea4a-8146-4af5-b405-a52df7b5e4b6"
      },
      "outputs": [
        {
          "output_type": "execute_result",
          "data": {
            "text/plain": [
              "TV           0\n",
              "Radio        0\n",
              "Newspaper    0\n",
              "Sales        0\n",
              "dtype: int64"
            ]
          },
          "metadata": {},
          "execution_count": 7
        }
      ],
      "source": [
        "dataset.isna().sum()"
      ]
    },
    {
      "cell_type": "markdown",
      "metadata": {
        "id": "wY9ZeAi4XJjN"
      },
      "source": [
        "**Conclusion:** The dataset does not have missing values"
      ]
    },
    {
      "cell_type": "markdown",
      "metadata": {
        "id": "sEtANdoQXJjN"
      },
      "source": [
        "**2. Checking for duplicate rows**"
      ]
    },
    {
      "cell_type": "code",
      "execution_count": 8,
      "metadata": {
        "colab": {
          "base_uri": "https://localhost:8080/"
        },
        "id": "WMu9exlDXJjN",
        "outputId": "4e5e95fe-2c1d-4e81-e1ec-a6d4e2cfe759"
      },
      "outputs": [
        {
          "output_type": "execute_result",
          "data": {
            "text/plain": [
              "False"
            ]
          },
          "metadata": {},
          "execution_count": 8
        }
      ],
      "source": [
        "dataset.duplicated().any()"
      ]
    },
    {
      "cell_type": "markdown",
      "metadata": {
        "id": "JVXToPHDXJjN"
      },
      "source": [
        "**Conclusion:** There are no duplicate rows present in the dataset"
      ]
    },
    {
      "cell_type": "markdown",
      "metadata": {
        "id": "6FWATytTXJjN"
      },
      "source": [
        "**3. Checking for outliers**"
      ]
    },
    {
      "cell_type": "code",
      "execution_count": 9,
      "metadata": {
        "colab": {
          "base_uri": "https://localhost:8080/",
          "height": 499
        },
        "id": "keoRFa_bXJjO",
        "outputId": "2c40d43b-ea5b-482d-9aad-4921e04fd2dc"
      },
      "outputs": [
        {
          "output_type": "stream",
          "name": "stderr",
          "text": [
            "/usr/local/lib/python3.9/dist-packages/seaborn/_decorators.py:36: FutureWarning: Pass the following variable as a keyword arg: x. From version 0.12, the only valid positional argument will be `data`, and passing other arguments without an explicit keyword will result in an error or misinterpretation.\n",
            "  warnings.warn(\n",
            "/usr/local/lib/python3.9/dist-packages/seaborn/_decorators.py:36: FutureWarning: Pass the following variable as a keyword arg: x. From version 0.12, the only valid positional argument will be `data`, and passing other arguments without an explicit keyword will result in an error or misinterpretation.\n",
            "  warnings.warn(\n",
            "/usr/local/lib/python3.9/dist-packages/seaborn/_decorators.py:36: FutureWarning: Pass the following variable as a keyword arg: x. From version 0.12, the only valid positional argument will be `data`, and passing other arguments without an explicit keyword will result in an error or misinterpretation.\n",
            "  warnings.warn(\n"
          ]
        },
        {
          "output_type": "display_data",
          "data": {
            "text/plain": [
              "<Figure size 360x360 with 3 Axes>"
            ],
            "image/png": "[encoded data removed]"
          },
          "metadata": {
            "needs_background": "light"
          }
        }
      ],
      "source": [
        "fig, axs = plt.subplots(3, figsize = (5,5))\n",
        "plt1 = sns.boxplot(dataset['TV'], ax = axs[0])\n",
        "plt2 = sns.boxplot(dataset['Newspaper'], ax = axs[1])\n",
        "plt3 = sns.boxplot(dataset['Radio'], ax = axs[2])\n",
        "plt.tight_layout()"
      ]
    },
    {
      "cell_type": "markdown",
      "metadata": {
        "id": "Usw21vhiXJjO"
      },
      "source": [
        "**Conclusion:** There are not that extreme values present in the dataset"
      ]
    },
    {
      "cell_type": "markdown",
      "metadata": {
        "id": "0iLKWCuRXJjO"
      },
      "source": [
        "# Exploratory Data Analysis"
      ]
    },
    {
      "cell_type": "markdown",
      "metadata": {
        "id": "UNYqoS_NXJjO"
      },
      "source": [
        "**1. Distribution of the target variable**"
      ]
    },
    {
      "cell_type": "code",
      "execution_count": 10,
      "metadata": {
        "colab": {
          "base_uri": "https://localhost:8080/",
          "height": 336
        },
        "id": "--ruuVYnXJjO",
        "outputId": "01a9a157-fd10-4703-8c3e-65165c56cb87"
      },
      "outputs": [
        {
          "output_type": "stream",
          "name": "stderr",
          "text": [
            "/usr/local/lib/python3.9/dist-packages/seaborn/distributions.py:2619: FutureWarning: `distplot` is a deprecated function and will be removed in a future version. Please adapt your code to use either `displot` (a figure-level function with similar flexibility) or `histplot` (an axes-level function for histograms).\n",
            "  warnings.warn(msg, FutureWarning)\n"
          ]
        },
        {
          "output_type": "display_data",
          "data": {
            "text/plain": [
              "<Figure size 432x288 with 1 Axes>"
            ],
            "image/png": "[encoded data removed]"
          },
          "metadata": {
            "needs_background": "light"
          }
        }
      ],
      "source": [
        "sns.distplot(dataset['Sales']);"
      ]
    },
    {
      "cell_type": "code",
      "source": [
        "dataset.hist('Sales')"
      ],
      "metadata": {
        "colab": {
          "base_uri": "https://localhost:8080/",
          "height": 299
        },
        "id": "lJIpaT78XuRz",
        "outputId": "42b19895-d7fe-4ae6-af66-6f34dca69f1f"
      },
      "execution_count": 12,
      "outputs": [
        {
          "output_type": "execute_result",
          "data": {
            "text/plain": [
              "array([[<AxesSubplot:title={'center':'Sales'}>]], dtype=object)"
            ]
          },
          "metadata": {},
          "execution_count": 12
        },
        {
          "output_type": "display_data",
          "data": {
            "text/plain": [
              "<Figure size 432x288 with 1 Axes>"
            ],
            "image/png": "[encoded data removed]"
          },
          "metadata": {
            "needs_background": "light"
          }
        }
      ]
    },
    {
      "cell_type": "markdown",
      "metadata": {
        "id": "_4lgkfaLXJjO"
      },
      "source": [
        "**Conclusion:** It is normally distributed"
      ]
    },
    {
      "cell_type": "markdown",
      "metadata": {
        "id": "nnAZgNPxXJjP"
      },
      "source": [
        "**2. How Sales are related with other variables**"
      ]
    },
    {
      "cell_type": "code",
      "execution_count": 13,
      "metadata": {
        "colab": {
          "base_uri": "https://localhost:8080/",
          "height": 303
        },
        "id": "5s3wZ4jZXJjP",
        "outputId": "594f9199-f6a8-411c-f211-f7a2bbb8b3d4"
      },
      "outputs": [
        {
          "output_type": "display_data",
          "data": {
            "text/plain": [
              "<Figure size 864x288 with 3 Axes>"
            ],
            "image/png": "[encoded data removed]"
          },
          "metadata": {
            "needs_background": "light"
          }
        }
      ],
      "source": [
        "sns.pairplot(dataset, x_vars=['TV', 'Radio', 'Newspaper'], y_vars='Sales', height=4, aspect=1, kind='scatter')\n",
        "plt.show()"
      ]
    },
    {
      "cell_type": "markdown",
      "metadata": {
        "id": "1z0duPBTXJjP"
      },
      "source": [
        "**Conclusion:** TV is strongly, positively, linearly correlated with the target variable. But the Newspaper feature seems to be uncorrelated"
      ]
    },
    {
      "cell_type": "markdown",
      "metadata": {
        "id": "CI530XtFXJjP"
      },
      "source": [
        "**3. Heatmap**"
      ]
    },
    {
      "cell_type": "code",
      "execution_count": 14,
      "metadata": {
        "colab": {
          "base_uri": "https://localhost:8080/",
          "height": 269
        },
        "id": "8RAnpM8HXJjP",
        "outputId": "dce97801-018e-4e15-f57b-954bd65970c7"
      },
      "outputs": [
        {
          "output_type": "display_data",
          "data": {
            "text/plain": [
              "<Figure size 432x288 with 2 Axes>"
            ],
            "image/png": "[encoded data removed]"
          },
          "metadata": {
            "needs_background": "light"
          }
        }
      ],
      "source": [
        "sns.heatmap(dataset.corr(), annot = True)\n",
        "plt.show()"
      ]
    },
    {
      "cell_type": "markdown",
      "metadata": {
        "id": "57HGSjaKXJjP"
      },
      "source": [
        "**Conclusion:** TV seems to be most correlated with Sales as 0.9 is very close to 1\n",
        "\n",
        "**Note:** Heatmap is defined as a graphical representation of data using colors to visualize the value of the matrix. In this, to represent more common values or higher activities brighter colors basically reddish colors are used and to represent less common or activity values, darker colors are preferred. Heatmap is also defined by the name of the shading matrix."
      ]
    },
    {
      "cell_type": "markdown",
      "metadata": {
        "id": "X45CYSxEXJjQ"
      },
      "source": [
        "# Model Building"
      ]
    },
    {
      "cell_type": "markdown",
      "metadata": {
        "id": "2W_3ilXDXJjR"
      },
      "source": [
        "**Linear Regression is a useful tool for predicting a quantitative response.**\n",
        "\n",
        "Prediction using:\n",
        "    1. Simple Linear Regression\n",
        "    2. Multiple Linear Regression"
      ]
    },
    {
      "cell_type": "markdown",
      "metadata": {
        "id": "f8XxF2osXJjR"
      },
      "source": [
        "**1. Simple Linear Regression**"
      ]
    },
    {
      "cell_type": "markdown",
      "metadata": {
        "id": "CpAgGLjTXJjR"
      },
      "source": [
        "Simple linear regression has only one x and one y variable. It is an approach for predicting a quantitative response using a single feature.\n",
        "\n",
        "It establishes the relationship between two variables using a straight line. Linear regression attempts to draw a line that comes closest to the data by finding the slope and intercept that define the line and minimize regression errors.\n",
        "\n",
        "**Formula:** Y = β0 + β1X + e\n",
        "\n",
        "    Y = Dependent variable / Target variable\n",
        "    β0 = Intercept of the regression line \n",
        "    β1 = Slope of the regression lime which tells whether the line is increasing or decreasing\n",
        "    X = Independent variable / Predictor variable\n",
        "    e = Error\n",
        "    \n",
        "**Equation:** Sales = β0 + β1X + TV\n",
        "\n",
        "![Screenshot 2023-03-10 114820.png](data:image/png;base64,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)\n",
        "\n",
        "![Screenshot 2023-03-10 115224.png](data:image/png;base64,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)"
      ]
    },
    {
      "cell_type": "code",
      "execution_count": 15,
      "metadata": {
        "id": "-aSCdW1KXJjR"
      },
      "outputs": [],
      "source": [
        "from sklearn.model_selection import train_test_split\n",
        "from sklearn.linear_model import LinearRegression\n",
        "from sklearn import metrics"
      ]
    },
    {
      "cell_type": "code",
      "execution_count": 16,
      "metadata": {
        "id": "d779LS2FXJjS"
      },
      "outputs": [],
      "source": [
        "#Setting the value for X and Y\n",
        "x = dataset[['TV']]\n",
        "y = dataset['Sales']"
      ]
    },
    {
      "cell_type": "code",
      "execution_count": 17,
      "metadata": {
        "id": "dZbYApBhXJjS"
      },
      "outputs": [],
      "source": [
        "x_train, x_test, y_train, y_test = train_test_split(x, y, test_size = 0.3, random_state = 100)"
      ]
    },
    {
      "cell_type": "code",
      "execution_count": 18,
      "metadata": {
        "colab": {
          "base_uri": "https://localhost:8080/",
          "height": 74
        },
        "id": "iqiJjzrxXJjS",
        "outputId": "168d4f56-c68f-48da-bb81-3a1d1949965d"
      },
      "outputs": [
        {
          "output_type": "execute_result",
          "data": {
            "text/plain": [
              "LinearRegression()"
            ],
            "text/html": [
              "<style>#sk-container-id-1 {color: black;background-color: white;}#sk-container-id-1 pre{padding: 0;}#sk-container-id-1 div.sk-toggleable {background-color: white;}#sk-container-id-1 label.sk-toggleable__label {cursor: pointer;display: block;width: 100%;margin-bottom: 0;padding: 0.3em;box-sizing: border-box;text-align: center;}#sk-container-id-1 label.sk-toggleable__label-arrow:before {content: \"▸\";float: left;margin-right: 0.25em;color: #696969;}#sk-container-id-1 label.sk-toggleable__label-arrow:hover:before {color: black;}#sk-container-id-1 div.sk-estimator:hover label.sk-toggleable__label-arrow:before {color: black;}#sk-container-id-1 div.sk-toggleable__content {max-height: 0;max-width: 0;overflow: hidden;text-align: left;background-color: #f0f8ff;}#sk-container-id-1 div.sk-toggleable__content pre {margin: 0.2em;color: black;border-radius: 0.25em;background-color: #f0f8ff;}#sk-container-id-1 input.sk-toggleable__control:checked~div.sk-toggleable__content {max-height: 200px;max-width: 100%;overflow: auto;}#sk-container-id-1 input.sk-toggleable__control:checked~label.sk-toggleable__label-arrow:before {content: \"▾\";}#sk-container-id-1 div.sk-estimator input.sk-toggleable__control:checked~label.sk-toggleable__label {background-color: #d4ebff;}#sk-container-id-1 div.sk-label input.sk-toggleable__control:checked~label.sk-toggleable__label {background-color: #d4ebff;}#sk-container-id-1 input.sk-hidden--visually {border: 0;clip: rect(1px 1px 1px 1px);clip: rect(1px, 1px, 1px, 1px);height: 1px;margin: -1px;overflow: hidden;padding: 0;position: absolute;width: 1px;}#sk-container-id-1 div.sk-estimator {font-family: monospace;background-color: #f0f8ff;border: 1px dotted black;border-radius: 0.25em;box-sizing: border-box;margin-bottom: 0.5em;}#sk-container-id-1 div.sk-estimator:hover {background-color: #d4ebff;}#sk-container-id-1 div.sk-parallel-item::after {content: \"\";width: 100%;border-bottom: 1px solid gray;flex-grow: 1;}#sk-container-id-1 div.sk-label:hover label.sk-toggleable__label {background-color: #d4ebff;}#sk-container-id-1 div.sk-serial::before {content: \"\";position: absolute;border-left: 1px solid gray;box-sizing: border-box;top: 0;bottom: 0;left: 50%;z-index: 0;}#sk-container-id-1 div.sk-serial {display: flex;flex-direction: column;align-items: center;background-color: white;padding-right: 0.2em;padding-left: 0.2em;position: relative;}#sk-container-id-1 div.sk-item {position: relative;z-index: 1;}#sk-container-id-1 div.sk-parallel {display: flex;align-items: stretch;justify-content: center;background-color: white;position: relative;}#sk-container-id-1 div.sk-item::before, #sk-container-id-1 div.sk-parallel-item::before {content: \"\";position: absolute;border-left: 1px solid gray;box-sizing: border-box;top: 0;bottom: 0;left: 50%;z-index: -1;}#sk-container-id-1 div.sk-parallel-item {display: flex;flex-direction: column;z-index: 1;position: relative;background-color: white;}#sk-container-id-1 div.sk-parallel-item:first-child::after {align-self: flex-end;width: 50%;}#sk-container-id-1 div.sk-parallel-item:last-child::after {align-self: flex-start;width: 50%;}#sk-container-id-1 div.sk-parallel-item:only-child::after {width: 0;}#sk-container-id-1 div.sk-dashed-wrapped {border: 1px dashed gray;margin: 0 0.4em 0.5em 0.4em;box-sizing: border-box;padding-bottom: 0.4em;background-color: white;}#sk-container-id-1 div.sk-label label {font-family: monospace;font-weight: bold;display: inline-block;line-height: 1.2em;}#sk-container-id-1 div.sk-label-container {text-align: center;}#sk-container-id-1 div.sk-container {/* jupyter's `normalize.less` sets `[hidden] { display: none; }` but bootstrap.min.css set `[hidden] { display: none !important; }` so we also need the `!important` here to be able to override the default hidden behavior on the sphinx rendered scikit-learn.org. See: https://github.com/scikit-learn/scikit-learn/issues/21755 */display: inline-block !important;position: relative;}#sk-container-id-1 div.sk-text-repr-fallback {display: none;}</style><div id=\"sk-container-id-1\" class=\"sk-top-container\"><div class=\"sk-text-repr-fallback\"><pre>LinearRegression()</pre><b>In a Jupyter environment, please rerun this cell to show the HTML representation or trust the notebook. <br />On GitHub, the HTML representation is unable to render, please try loading this page with nbviewer.org.</b></div><div class=\"sk-container\" hidden><div class=\"sk-item\"><div class=\"sk-estimator sk-toggleable\"><input class=\"sk-toggleable__control sk-hidden--visually\" id=\"sk-estimator-id-1\" type=\"checkbox\" checked><label for=\"sk-estimator-id-1\" class=\"sk-toggleable__label sk-toggleable__label-arrow\">LinearRegression</label><div class=\"sk-toggleable__content\"><pre>LinearRegression()</pre></div></div></div></div></div>"
            ]
          },
          "metadata": {},
          "execution_count": 18
        }
      ],
      "source": [
        "slr= LinearRegression()  \n",
        "slr.fit(x_train, y_train)"
      ]
    },
    {
      "cell_type": "code",
      "execution_count": 19,
      "metadata": {
        "colab": {
          "base_uri": "https://localhost:8080/"
        },
        "id": "aSYjHugNXJjS",
        "outputId": "98ca30f2-dcf1-428d-ccb3-2d9dbde7616e"
      },
      "outputs": [
        {
          "output_type": "stream",
          "name": "stdout",
          "text": [
            "Intercept:  6.948683200001357\n",
            "Coefficient: [0.05454575]\n"
          ]
        }
      ],
      "source": [
        "#Printing the model coefficients\n",
        "print('Intercept: ', slr.intercept_)\n",
        "print('Coefficient:', slr.coef_)"
      ]
    },
    {
      "cell_type": "code",
      "execution_count": 20,
      "metadata": {
        "colab": {
          "base_uri": "https://localhost:8080/"
        },
        "id": "tbpY8BGrXJjT",
        "outputId": "3246bee5-5687-4190-c147-c776bdbefff8"
      },
      "outputs": [
        {
          "output_type": "stream",
          "name": "stdout",
          "text": [
            "Regression Equation: Sales = 6.948 + 0.054 * TV\n"
          ]
        }
      ],
      "source": [
        "print('Regression Equation: Sales = 6.948 + 0.054 * TV')"
      ]
    },
    {
      "cell_type": "markdown",
      "source": [
        "Regression Equation: `Sales = 6.948 + 0.054 * TV`\n",
        "\n",
        "From the above-obtained equation for the Simple Linear Regression Model, we can see that the value of intercept is 6.948, which shows that if we keep the money spent on TV for advertisement as 0, the estimated average sales will be 6.948 and a single rupee increase in the money spent on TV for advertisement increases sales by 0.054."
      ],
      "metadata": {
        "id": "CSckmyxHaZD0"
      }
    },
    {
      "cell_type": "code",
      "execution_count": 21,
      "metadata": {
        "colab": {
          "base_uri": "https://localhost:8080/",
          "height": 265
        },
        "id": "796m3XjgXJjT",
        "outputId": "860ecbde-f082-4a15-81ef-d772ebafe18f"
      },
      "outputs": [
        {
          "output_type": "display_data",
          "data": {
            "text/plain": [
              "<Figure size 432x288 with 1 Axes>"
            ],
            "image/png": "[encoded data removed]"
          },
          "metadata": {
            "needs_background": "light"
          }
        }
      ],
      "source": [
        "#Line of best fit\n",
        "plt.scatter(x_train, y_train)\n",
        "plt.plot(x_train, 6.948 + 0.054*x_train, 'r')\n",
        "plt.show()"
      ]
    },
    {
      "cell_type": "markdown",
      "source": [
        "The above straight line is the best approximation of the given dataset."
      ],
      "metadata": {
        "id": "RX3ObcVtbJu7"
      }
    },
    {
      "cell_type": "code",
      "execution_count": 22,
      "metadata": {
        "id": "qbhGd-0vXJjT"
      },
      "outputs": [],
      "source": [
        "#Prediction of Test and Training set result  \n",
        "y_pred_slr= slr.predict(x_test)  \n",
        "x_pred_slr= slr.predict(x_train)  "
      ]
    },
    {
      "cell_type": "code",
      "execution_count": 23,
      "metadata": {
        "colab": {
          "base_uri": "https://localhost:8080/"
        },
        "id": "1g0GAPSNXJjT",
        "outputId": "43535eb8-0c8a-4a1e-8fc6-023a180da776"
      },
      "outputs": [
        {
          "output_type": "stream",
          "name": "stdout",
          "text": [
            "Prediction for test set: [ 7.37414007 19.94148154 14.32326899 18.82329361 20.13239168 18.2287449\n",
            " 14.54145201 17.72692398 18.75238413 18.77420243 13.34144544 19.46693349\n",
            " 10.01415451 17.1923756  11.70507285 12.08689312 15.11418241 16.23237035\n",
            " 15.8669138  13.1068987  18.65965635 14.00690363 17.60692332 16.60328147\n",
            " 17.03419291 18.96511257 18.93783969 11.05597839 17.03419291 13.66326538\n",
            " 10.6796127  10.71234015 13.5487193  17.22510305  9.67597085 13.52144643\n",
            " 12.25053038 16.13418799 19.07965865 17.48692266 18.69783838 16.53237199\n",
            " 15.92145955 18.86693021 13.5050827  11.84143724  7.87050642 20.51966653\n",
            " 10.79961336  9.03233096 17.99419817 16.29237067 11.04506924 14.09963141\n",
            " 18.44147334  9.3759692   7.88687015  8.34505447 17.72692398 11.62325422]\n"
          ]
        }
      ],
      "source": [
        "print(\"Prediction for test set: {}\".format(y_pred_slr))"
      ]
    },
    {
      "cell_type": "code",
      "execution_count": 24,
      "metadata": {
        "colab": {
          "base_uri": "https://localhost:8080/",
          "height": 1000
        },
        "id": "iLk7TYZ2XJjU",
        "outputId": "0027b5e0-ebe0-40e2-f68b-d8f0de53e491"
      },
      "outputs": [
        {
          "output_type": "execute_result",
          "data": {
            "text/plain": [
              "     Actual value  Predicted value\n",
              "126           6.6         7.374140\n",
              "104          20.7        19.941482\n",
              "99           17.2        14.323269\n",
              "92           19.4        18.823294\n",
              "111          21.8        20.132392\n",
              "167          17.2        18.228745\n",
              "116          12.2        14.541452\n",
              "96           16.7        17.726924\n",
              "52           22.6        18.752384\n",
              "69           22.3        18.774202\n",
              "164          11.9        13.341445\n",
              "124          19.7        19.466933\n",
              "182           8.7        10.014155\n",
              "154          20.6        17.192376\n",
              "125          10.6        11.705073\n",
              "196          14.0        12.086893\n",
              "194          17.3        15.114182\n",
              "177          16.7        16.232370\n",
              "163          18.0        15.866914\n",
              "31           11.9        13.106899\n",
              "11           17.4        18.659656\n",
              "73           11.0        14.006904\n",
              "15           22.4        17.606923\n",
              "41           17.1        16.603281\n",
              "97           20.5        17.034193\n",
              "128          24.7        18.965113\n",
              "133          19.6        18.937840\n",
              "82           11.3        11.055978\n",
              "139          20.7        17.034193\n",
              "123          15.2        13.663265\n",
              "83           13.6        10.679613\n",
              "65           11.3        10.712340\n",
              "151          11.6        13.548719\n",
              "162          19.9        17.225103\n",
              "170           8.4         9.675971\n",
              "77           14.2        13.521446\n",
              "32           13.2        12.250530\n",
              "173          16.7        16.134188\n",
              "174          16.5        19.079659\n",
              "85           20.2        17.486923\n",
              "168          17.1        18.697838\n",
              "112          17.1        16.532372\n",
              "171          17.5        15.921460\n",
              "181          17.2        18.866930\n",
              "7            13.2        13.505083\n",
              "46           10.6        11.841437\n",
              "75            8.7         7.870506\n",
              "28           18.9        20.519667\n",
              "29           10.5        10.799613\n",
              "195           7.6         9.032331\n",
              "40           16.6        17.994198\n",
              "153          16.0        16.292371\n",
              "115          12.6        11.045069\n",
              "64           16.0        14.099631\n",
              "59           18.4        18.441473\n",
              "1            10.4         9.375969\n",
              "192           5.9         7.886870\n",
              "136           9.5         8.345054\n",
              "152          16.6        17.726924\n",
              "161          13.3        11.623254"
            ],
            "text/html": [
              "\n",
              "  <div id=\"df-0cfab498-134e-4ed0-b0e1-4598c0fad355\">\n",
              "    <div class=\"colab-df-container\">\n",
              "      <div>\n",
              "<style scoped>\n",
              "    .dataframe tbody tr th:only-of-type {\n",
              "        vertical-align: middle;\n",
              "    }\n",
              "\n",
              "    .dataframe tbody tr th {\n",
              "        vertical-align: top;\n",
              "    }\n",
              "\n",
              "    .dataframe thead th {\n",
              "        text-align: right;\n",
              "    }\n",
              "</style>\n",
              "<table border=\"1\" class=\"dataframe\">\n",
              "  <thead>\n",
              "    <tr style=\"text-align: right;\">\n",
              "      <th></th>\n",
              "      <th>Actual value</th>\n",
              "      <th>Predicted value</th>\n",
              "    </tr>\n",
              "  </thead>\n",
              "  <tbody>\n",
              "    <tr>\n",
              "      <th>126</th>\n",
              "      <td>6.6</td>\n",
              "      <td>7.374140</td>\n",
              "    </tr>\n",
              "    <tr>\n",
              "      <th>104</th>\n",
              "      <td>20.7</td>\n",
              "      <td>19.941482</td>\n",
              "    </tr>\n",
              "    <tr>\n",
              "      <th>99</th>\n",
              "      <td>17.2</td>\n",
              "      <td>14.323269</td>\n",
              "    </tr>\n",
              "    <tr>\n",
              "      <th>92</th>\n",
              "      <td>19.4</td>\n",
              "      <td>18.823294</td>\n",
              "    </tr>\n",
              "    <tr>\n",
              "      <th>111</th>\n",
              "      <td>21.8</td>\n",
              "      <td>20.132392</td>\n",
              "    </tr>\n",
              "    <tr>\n",
              "      <th>167</th>\n",
              "      <td>17.2</td>\n",
              "      <td>18.228745</td>\n",
              "    </tr>\n",
              "    <tr>\n",
              "      <th>116</th>\n",
              "      <td>12.2</td>\n",
              "      <td>14.541452</td>\n",
              "    </tr>\n",
              "    <tr>\n",
              "      <th>96</th>\n",
              "      <td>16.7</td>\n",
              "      <td>17.726924</td>\n",
              "    </tr>\n",
              "    <tr>\n",
              "      <th>52</th>\n",
              "      <td>22.6</td>\n",
              "      <td>18.752384</td>\n",
              "    </tr>\n",
              "    <tr>\n",
              "      <th>69</th>\n",
              "      <td>22.3</td>\n",
              "      <td>18.774202</td>\n",
              "    </tr>\n",
              "    <tr>\n",
              "      <th>164</th>\n",
              "      <td>11.9</td>\n",
              "      <td>13.341445</td>\n",
              "    </tr>\n",
              "    <tr>\n",
              "      <th>124</th>\n",
              "      <td>19.7</td>\n",
              "      <td>19.466933</td>\n",
              "    </tr>\n",
              "    <tr>\n",
              "      <th>182</th>\n",
              "      <td>8.7</td>\n",
              "      <td>10.014155</td>\n",
              "    </tr>\n",
              "    <tr>\n",
              "      <th>154</th>\n",
              "      <td>20.6</td>\n",
              "      <td>17.192376</td>\n",
              "    </tr>\n",
              "    <tr>\n",
              "      <th>125</th>\n",
              "      <td>10.6</td>\n",
              "      <td>11.705073</td>\n",
              "    </tr>\n",
              "    <tr>\n",
              "      <th>196</th>\n",
              "      <td>14.0</td>\n",
              "      <td>12.086893</td>\n",
              "    </tr>\n",
              "    <tr>\n",
              "      <th>194</th>\n",
              "      <td>17.3</td>\n",
              "      <td>15.114182</td>\n",
              "    </tr>\n",
              "    <tr>\n",
              "      <th>177</th>\n",
              "      <td>16.7</td>\n",
              "      <td>16.232370</td>\n",
              "    </tr>\n",
              "    <tr>\n",
              "      <th>163</th>\n",
              "      <td>18.0</td>\n",
              "      <td>15.866914</td>\n",
              "    </tr>\n",
              "    <tr>\n",
              "      <th>31</th>\n",
              "      <td>11.9</td>\n",
              "      <td>13.106899</td>\n",
              "    </tr>\n",
              "    <tr>\n",
              "      <th>11</th>\n",
              "      <td>17.4</td>\n",
              "      <td>18.659656</td>\n",
              "    </tr>\n",
              "    <tr>\n",
              "      <th>73</th>\n",
              "      <td>11.0</td>\n",
              "      <td>14.006904</td>\n",
              "    </tr>\n",
              "    <tr>\n",
              "      <th>15</th>\n",
              "      <td>22.4</td>\n",
              "      <td>17.606923</td>\n",
              "    </tr>\n",
              "    <tr>\n",
              "      <th>41</th>\n",
              "      <td>17.1</td>\n",
              "      <td>16.603281</td>\n",
              "    </tr>\n",
              "    <tr>\n",
              "      <th>97</th>\n",
              "      <td>20.5</td>\n",
              "      <td>17.034193</td>\n",
              "    </tr>\n",
              "    <tr>\n",
              "      <th>128</th>\n",
              "      <td>24.7</td>\n",
              "      <td>18.965113</td>\n",
              "    </tr>\n",
              "    <tr>\n",
              "      <th>133</th>\n",
              "      <td>19.6</td>\n",
              "      <td>18.937840</td>\n",
              "    </tr>\n",
              "    <tr>\n",
              "      <th>82</th>\n",
              "      <td>11.3</td>\n",
              "      <td>11.055978</td>\n",
              "    </tr>\n",
              "    <tr>\n",
              "      <th>139</th>\n",
              "      <td>20.7</td>\n",
              "      <td>17.034193</td>\n",
              "    </tr>\n",
              "    <tr>\n",
              "      <th>123</th>\n",
              "      <td>15.2</td>\n",
              "      <td>13.663265</td>\n",
              "    </tr>\n",
              "    <tr>\n",
              "      <th>83</th>\n",
              "      <td>13.6</td>\n",
              "      <td>10.679613</td>\n",
              "    </tr>\n",
              "    <tr>\n",
              "      <th>65</th>\n",
              "      <td>11.3</td>\n",
              "      <td>10.712340</td>\n",
              "    </tr>\n",
              "    <tr>\n",
              "      <th>151</th>\n",
              "      <td>11.6</td>\n",
              "      <td>13.548719</td>\n",
              "    </tr>\n",
              "    <tr>\n",
              "      <th>162</th>\n",
              "      <td>19.9</td>\n",
              "      <td>17.225103</td>\n",
              "    </tr>\n",
              "    <tr>\n",
              "      <th>170</th>\n",
              "      <td>8.4</td>\n",
              "      <td>9.675971</td>\n",
              "    </tr>\n",
              "    <tr>\n",
              "      <th>77</th>\n",
              "      <td>14.2</td>\n",
              "      <td>13.521446</td>\n",
              "    </tr>\n",
              "    <tr>\n",
              "      <th>32</th>\n",
              "      <td>13.2</td>\n",
              "      <td>12.250530</td>\n",
              "    </tr>\n",
              "    <tr>\n",
              "      <th>173</th>\n",
              "      <td>16.7</td>\n",
              "      <td>16.134188</td>\n",
              "    </tr>\n",
              "    <tr>\n",
              "      <th>174</th>\n",
              "      <td>16.5</td>\n",
              "      <td>19.079659</td>\n",
              "    </tr>\n",
              "    <tr>\n",
              "      <th>85</th>\n",
              "      <td>20.2</td>\n",
              "      <td>17.486923</td>\n",
              "    </tr>\n",
              "    <tr>\n",
              "      <th>168</th>\n",
              "      <td>17.1</td>\n",
              "      <td>18.697838</td>\n",
              "    </tr>\n",
              "    <tr>\n",
              "      <th>112</th>\n",
              "      <td>17.1</td>\n",
              "      <td>16.532372</td>\n",
              "    </tr>\n",
              "    <tr>\n",
              "      <th>171</th>\n",
              "      <td>17.5</td>\n",
              "      <td>15.921460</td>\n",
              "    </tr>\n",
              "    <tr>\n",
              "      <th>181</th>\n",
              "      <td>17.2</td>\n",
              "      <td>18.866930</td>\n",
              "    </tr>\n",
              "    <tr>\n",
              "      <th>7</th>\n",
              "      <td>13.2</td>\n",
              "      <td>13.505083</td>\n",
              "    </tr>\n",
              "    <tr>\n",
              "      <th>46</th>\n",
              "      <td>10.6</td>\n",
              "      <td>11.841437</td>\n",
              "    </tr>\n",
              "    <tr>\n",
              "      <th>75</th>\n",
              "      <td>8.7</td>\n",
              "      <td>7.870506</td>\n",
              "    </tr>\n",
              "    <tr>\n",
              "      <th>28</th>\n",
              "      <td>18.9</td>\n",
              "      <td>20.519667</td>\n",
              "    </tr>\n",
              "    <tr>\n",
              "      <th>29</th>\n",
              "      <td>10.5</td>\n",
              "      <td>10.799613</td>\n",
              "    </tr>\n",
              "    <tr>\n",
              "      <th>195</th>\n",
              "      <td>7.6</td>\n",
              "      <td>9.032331</td>\n",
              "    </tr>\n",
              "    <tr>\n",
              "      <th>40</th>\n",
              "      <td>16.6</td>\n",
              "      <td>17.994198</td>\n",
              "    </tr>\n",
              "    <tr>\n",
              "      <th>153</th>\n",
              "      <td>16.0</td>\n",
              "      <td>16.292371</td>\n",
              "    </tr>\n",
              "    <tr>\n",
              "      <th>115</th>\n",
              "      <td>12.6</td>\n",
              "      <td>11.045069</td>\n",
              "    </tr>\n",
              "    <tr>\n",
              "      <th>64</th>\n",
              "      <td>16.0</td>\n",
              "      <td>14.099631</td>\n",
              "    </tr>\n",
              "    <tr>\n",
              "      <th>59</th>\n",
              "      <td>18.4</td>\n",
              "      <td>18.441473</td>\n",
              "    </tr>\n",
              "    <tr>\n",
              "      <th>1</th>\n",
              "      <td>10.4</td>\n",
              "      <td>9.375969</td>\n",
              "    </tr>\n",
              "    <tr>\n",
              "      <th>192</th>\n",
              "      <td>5.9</td>\n",
              "      <td>7.886870</td>\n",
              "    </tr>\n",
              "    <tr>\n",
              "      <th>136</th>\n",
              "      <td>9.5</td>\n",
              "      <td>8.345054</td>\n",
              "    </tr>\n",
              "    <tr>\n",
              "      <th>152</th>\n",
              "      <td>16.6</td>\n",
              "      <td>17.726924</td>\n",
              "    </tr>\n",
              "    <tr>\n",
              "      <th>161</th>\n",
              "      <td>13.3</td>\n",
              "      <td>11.623254</td>\n",
              "    </tr>\n",
              "  </tbody>\n",
              "</table>\n",
              "</div>\n",
              "      <button class=\"colab-df-convert\" onclick=\"convertToInteractive('df-0cfab498-134e-4ed0-b0e1-4598c0fad355')\"\n",
              "              title=\"Convert this dataframe to an interactive table.\"\n",
              "              style=\"display:none;\">\n",
              "        \n",
              "  <svg xmlns=\"http://www.w3.org/2000/svg\" height=\"24px\"viewBox=\"0 0 24 24\"\n",
              "       width=\"24px\">\n",
              "    <path d=\"M0 0h24v24H0V0z\" fill=\"none\"/>\n",
              "    <path d=\"M18.56 5.44l.94 2.06.94-2.06 2.06-.94-2.06-.94-.94-2.06-.94 2.06-2.06.94zm-11 1L8.5 8.5l.94-2.06 2.06-.94-2.06-.94L8.5 2.5l-.94 2.06-2.06.94zm10 10l.94 2.06.94-2.06 2.06-.94-2.06-.94-.94-2.06-.94 2.06-2.06.94z\"/><path d=\"M17.41 7.96l-1.37-1.37c-.4-.4-.92-.59-1.43-.59-.52 0-1.04.2-1.43.59L10.3 9.45l-7.72 7.72c-.78.78-.78 2.05 0 2.83L4 21.41c.39.39.9.59 1.41.59.51 0 1.02-.2 1.41-.59l7.78-7.78 2.81-2.81c.8-.78.8-2.07 0-2.86zM5.41 20L4 18.59l7.72-7.72 1.47 1.35L5.41 20z\"/>\n",
              "  </svg>\n",
              "      </button>\n",
              "      \n",
              "  <style>\n",
              "    .colab-df-container {\n",
              "      display:flex;\n",
              "      flex-wrap:wrap;\n",
              "      gap: 12px;\n",
              "    }\n",
              "\n",
              "    .colab-df-convert {\n",
              "      background-color: #E8F0FE;\n",
              "      border: none;\n",
              "      border-radius: 50%;\n",
              "      cursor: pointer;\n",
              "      display: none;\n",
              "      fill: #1967D2;\n",
              "      height: 32px;\n",
              "      padding: 0 0 0 0;\n",
              "      width: 32px;\n",
              "    }\n",
              "\n",
              "    .colab-df-convert:hover {\n",
              "      background-color: #E2EBFA;\n",
              "      box-shadow: 0px 1px 2px rgba(60, 64, 67, 0.3), 0px 1px 3px 1px rgba(60, 64, 67, 0.15);\n",
              "      fill: #174EA6;\n",
              "    }\n",
              "\n",
              "    [theme=dark] .colab-df-convert {\n",
              "      background-color: #3B4455;\n",
              "      fill: #D2E3FC;\n",
              "    }\n",
              "\n",
              "    [theme=dark] .colab-df-convert:hover {\n",
              "      background-color: #434B5C;\n",
              "      box-shadow: 0px 1px 3px 1px rgba(0, 0, 0, 0.15);\n",
              "      filter: drop-shadow(0px 1px 2px rgba(0, 0, 0, 0.3));\n",
              "      fill: #FFFFFF;\n",
              "    }\n",
              "  </style>\n",
              "\n",
              "      <script>\n",
              "        const buttonEl =\n",
              "          document.querySelector('#df-0cfab498-134e-4ed0-b0e1-4598c0fad355 button.colab-df-convert');\n",
              "        buttonEl.style.display =\n",
              "          google.colab.kernel.accessAllowed ? 'block' : 'none';\n",
              "\n",
              "        async function convertToInteractive(key) {\n",
              "          const element = document.querySelector('#df-0cfab498-134e-4ed0-b0e1-4598c0fad355');\n",
              "          const dataTable =\n",
              "            await google.colab.kernel.invokeFunction('convertToInteractive',\n",
              "                                                     [key], {});\n",
              "          if (!dataTable) return;\n",
              "\n",
              "          const docLinkHtml = 'Like what you see? Visit the ' +\n",
              "            '<a target=\"_blank\" href=https://colab.research.google.com/notebooks/data_table.ipynb>data table notebook</a>'\n",
              "            + ' to learn more about interactive tables.';\n",
              "          element.innerHTML = '';\n",
              "          dataTable['output_type'] = 'display_data';\n",
              "          await google.colab.output.renderOutput(dataTable, element);\n",
              "          const docLink = document.createElement('div');\n",
              "          docLink.innerHTML = docLinkHtml;\n",
              "          element.appendChild(docLink);\n",
              "        }\n",
              "      </script>\n",
              "    </div>\n",
              "  </div>\n",
              "  "
            ]
          },
          "metadata": {},
          "execution_count": 24
        }
      ],
      "source": [
        "#Actual value and the predicted value\n",
        "slr_diff = pd.DataFrame({'Actual value': y_test, 'Predicted value': y_pred_slr})\n",
        "slr_diff"
      ]
    },
    {
      "cell_type": "code",
      "execution_count": 25,
      "metadata": {
        "colab": {
          "base_uri": "https://localhost:8080/"
        },
        "id": "1aNE5RZcXJjU",
        "outputId": "b5dabe61-073a-4d0e-a90a-b85145ffc269"
      },
      "outputs": [
        {
          "output_type": "stream",
          "name": "stderr",
          "text": [
            "/usr/local/lib/python3.9/dist-packages/sklearn/base.py:420: UserWarning: X does not have valid feature names, but LinearRegression was fitted with feature names\n",
            "  warnings.warn(\n"
          ]
        },
        {
          "output_type": "execute_result",
          "data": {
            "text/plain": [
              "array([10.00324536])"
            ]
          },
          "metadata": {},
          "execution_count": 25
        }
      ],
      "source": [
        "#Predict for any value\n",
        "slr.predict([[56]])"
      ]
    },
    {
      "cell_type": "markdown",
      "metadata": {
        "id": "V_PIPaKfXJjU"
      },
      "source": [
        "**Conclusion:** The model predicted the Sales of 10.003 in that market"
      ]
    },
    {
      "cell_type": "code",
      "execution_count": 26,
      "metadata": {
        "colab": {
          "base_uri": "https://localhost:8080/"
        },
        "id": "oSyBXY5CXJjU",
        "outputId": "29baf70c-1e54-4121-aee6-9d07e42c0502"
      },
      "outputs": [
        {
          "output_type": "stream",
          "name": "stdout",
          "text": [
            "R squared value of the model: 81.10\n"
          ]
        }
      ],
      "source": [
        "# print the R-squared value for the model\n",
        "from sklearn.metrics import accuracy_score\n",
        "print('R squared value of the model: {:.2f}'.format(slr.score(x,y)*100))"
      ]
    },
    {
      "cell_type": "markdown",
      "metadata": {
        "id": "Pt-V_1ZKXJjU"
      },
      "source": [
        "**Conclusion:** 81.10% of the data fit the regression model"
      ]
    },
    {
      "cell_type": "markdown",
      "source": [
        "**R Squared:** R Square is the coefficient of determination. It tells us how many points fall on the regression line. The value of R Square is 81.10, which indicates that 81.10% of the data fit the regression model.\n",
        "\n",
        "**Mean Absolute Error**: Mean Absolute Error is the absolute difference between the actual or true values and the predicted values. The lower the value, the better is the model’s performance. A mean absolute error of 0 means that your model is a perfect predictor of the outputs. The mean absolute error obtained for this particular model is 1.648, which is pretty good as it is close to 0.\n",
        "\n",
        "**Mean Square Error**: Mean Square Error is calculated by taking the average of the square of the difference between the original and predicted values of the data. The lower the value, the better is the model’s performance. The mean square error obtained for this particular model is 4.077, which is pretty good.\n",
        "\n",
        "**Root Mean Square Error**: Root Mean Square Error is the standard deviation of the errors which occur when a prediction is made on a dataset. This is the same as Mean Squared Error, but the root of the value is considered while determining the accuracy of the model. The lower the value, the better is the model’s performance. The root mean square error obtained for this particular model is 2.019, which is pretty good."
      ],
      "metadata": {
        "id": "1ZBYHxcMa4xn"
      }
    },
    {
      "cell_type": "code",
      "execution_count": 27,
      "metadata": {
        "colab": {
          "base_uri": "https://localhost:8080/"
        },
        "id": "VnviMNOWXJjV",
        "outputId": "6de5b4e5-0123-44fd-8b94-5842f0bb8377"
      },
      "outputs": [
        {
          "output_type": "stream",
          "name": "stdout",
          "text": [
            "Mean Absolute Error: 1.6480589869746525\n",
            "Mean Square Error: 4.077556371826948\n",
            "Root Mean Square Error: 2.019296008966231\n"
          ]
        }
      ],
      "source": [
        "# 0 means the model is perfect. Therefore the value should be as close to 0 as possible\n",
        "meanAbErr = metrics.mean_absolute_error(y_test, y_pred_slr)\n",
        "meanSqErr = metrics.mean_squared_error(y_test, y_pred_slr)\n",
        "rootMeanSqErr = np.sqrt(metrics.mean_squared_error(y_test, y_pred_slr))\n",
        "\n",
        "print('Mean Absolute Error:', meanAbErr)\n",
        "print('Mean Square Error:', meanSqErr)\n",
        "print('Root Mean Square Error:', rootMeanSqErr)"
      ]
    },
    {
      "cell_type": "markdown",
      "source": [
        "The Simple Linear Regression model performs well as 81.10% of the data fit the regression model. Also, the mean absolute error, mean square error, and the root mean square error are less."
      ],
      "metadata": {
        "id": "zHeIlp0DbsYK"
      }
    },
    {
      "cell_type": "markdown",
      "metadata": {
        "id": "cq4ImfqcXJjV"
      },
      "source": [
        "# **2. Multiple Linear Regression**"
      ]
    },
    {
      "cell_type": "markdown",
      "metadata": {
        "id": "UaNJsf7NXJjV"
      },
      "source": [
        "Multiple linear regression has one y and two or more x variables. It is an extension of Simple Linear regression as it takes more than one predictor variable to predict the response variable.\n",
        "\n",
        "Multiple Linear Regression is one of the important regression algorithms which models the linear relationship between a single dependent continuous variable and more than one independent variable.\n",
        "\n",
        "Assumptions for Multiple Linear Regression:\n",
        "    1. A linear relationship should exist between the Target and predictor variables.\n",
        "    2. The regression residuals must be normally distributed.\n",
        "    3. MLR assumes little or no multicollinearity (correlation between the independent variable) in data.\n",
        "    \n",
        "**Formula:** Y = β0 + β1X1 + β2X2 + β3X3 + ... + βnXn + e\n",
        "\n",
        "    Y = Dependent variable / Target variable\n",
        "    β0 = Intercept of the regression line \n",
        "    β1, β2,..βn = Slope of the regression lime which tells whether the line is increasing or decreasing\n",
        "    X1, X2,..Xn = Independent variables / Predictor variables\n",
        "    e = Error\n",
        "    \n",
        "**Equation:** Sales = β0 + (β1 * TV) + (β2 * Radio) + (β3 * Newspaper)"
      ]
    },
    {
      "cell_type": "code",
      "execution_count": 28,
      "metadata": {
        "id": "2qHK_e24XJjV"
      },
      "outputs": [],
      "source": [
        "#Setting the value for X and Y\n",
        "x = dataset[['TV', 'Radio', 'Newspaper']]\n",
        "y = dataset['Sales']"
      ]
    },
    {
      "cell_type": "code",
      "execution_count": 29,
      "metadata": {
        "id": "0bQOijYoXJjV"
      },
      "outputs": [],
      "source": [
        "x_train, x_test, y_train, y_test= train_test_split(x, y, test_size= 0.3, random_state=100)  "
      ]
    },
    {
      "cell_type": "code",
      "execution_count": 30,
      "metadata": {
        "colab": {
          "base_uri": "https://localhost:8080/",
          "height": 74
        },
        "id": "RadCfsZxXJjW",
        "outputId": "42e2bde6-7fc4-41a4-b50f-4b01caa20236"
      },
      "outputs": [
        {
          "output_type": "execute_result",
          "data": {
            "text/plain": [
              "LinearRegression()"
            ],
            "text/html": [
              "<style>#sk-container-id-2 {color: black;background-color: white;}#sk-container-id-2 pre{padding: 0;}#sk-container-id-2 div.sk-toggleable {background-color: white;}#sk-container-id-2 label.sk-toggleable__label {cursor: pointer;display: block;width: 100%;margin-bottom: 0;padding: 0.3em;box-sizing: border-box;text-align: center;}#sk-container-id-2 label.sk-toggleable__label-arrow:before {content: \"▸\";float: left;margin-right: 0.25em;color: #696969;}#sk-container-id-2 label.sk-toggleable__label-arrow:hover:before {color: black;}#sk-container-id-2 div.sk-estimator:hover label.sk-toggleable__label-arrow:before {color: black;}#sk-container-id-2 div.sk-toggleable__content {max-height: 0;max-width: 0;overflow: hidden;text-align: left;background-color: #f0f8ff;}#sk-container-id-2 div.sk-toggleable__content pre {margin: 0.2em;color: black;border-radius: 0.25em;background-color: #f0f8ff;}#sk-container-id-2 input.sk-toggleable__control:checked~div.sk-toggleable__content {max-height: 200px;max-width: 100%;overflow: auto;}#sk-container-id-2 input.sk-toggleable__control:checked~label.sk-toggleable__label-arrow:before {content: \"▾\";}#sk-container-id-2 div.sk-estimator input.sk-toggleable__control:checked~label.sk-toggleable__label {background-color: #d4ebff;}#sk-container-id-2 div.sk-label input.sk-toggleable__control:checked~label.sk-toggleable__label {background-color: #d4ebff;}#sk-container-id-2 input.sk-hidden--visually {border: 0;clip: rect(1px 1px 1px 1px);clip: rect(1px, 1px, 1px, 1px);height: 1px;margin: -1px;overflow: hidden;padding: 0;position: absolute;width: 1px;}#sk-container-id-2 div.sk-estimator {font-family: monospace;background-color: #f0f8ff;border: 1px dotted black;border-radius: 0.25em;box-sizing: border-box;margin-bottom: 0.5em;}#sk-container-id-2 div.sk-estimator:hover {background-color: #d4ebff;}#sk-container-id-2 div.sk-parallel-item::after {content: \"\";width: 100%;border-bottom: 1px solid gray;flex-grow: 1;}#sk-container-id-2 div.sk-label:hover label.sk-toggleable__label {background-color: #d4ebff;}#sk-container-id-2 div.sk-serial::before {content: \"\";position: absolute;border-left: 1px solid gray;box-sizing: border-box;top: 0;bottom: 0;left: 50%;z-index: 0;}#sk-container-id-2 div.sk-serial {display: flex;flex-direction: column;align-items: center;background-color: white;padding-right: 0.2em;padding-left: 0.2em;position: relative;}#sk-container-id-2 div.sk-item {position: relative;z-index: 1;}#sk-container-id-2 div.sk-parallel {display: flex;align-items: stretch;justify-content: center;background-color: white;position: relative;}#sk-container-id-2 div.sk-item::before, #sk-container-id-2 div.sk-parallel-item::before {content: \"\";position: absolute;border-left: 1px solid gray;box-sizing: border-box;top: 0;bottom: 0;left: 50%;z-index: -1;}#sk-container-id-2 div.sk-parallel-item {display: flex;flex-direction: column;z-index: 1;position: relative;background-color: white;}#sk-container-id-2 div.sk-parallel-item:first-child::after {align-self: flex-end;width: 50%;}#sk-container-id-2 div.sk-parallel-item:last-child::after {align-self: flex-start;width: 50%;}#sk-container-id-2 div.sk-parallel-item:only-child::after {width: 0;}#sk-container-id-2 div.sk-dashed-wrapped {border: 1px dashed gray;margin: 0 0.4em 0.5em 0.4em;box-sizing: border-box;padding-bottom: 0.4em;background-color: white;}#sk-container-id-2 div.sk-label label {font-family: monospace;font-weight: bold;display: inline-block;line-height: 1.2em;}#sk-container-id-2 div.sk-label-container {text-align: center;}#sk-container-id-2 div.sk-container {/* jupyter's `normalize.less` sets `[hidden] { display: none; }` but bootstrap.min.css set `[hidden] { display: none !important; }` so we also need the `!important` here to be able to override the default hidden behavior on the sphinx rendered scikit-learn.org. See: https://github.com/scikit-learn/scikit-learn/issues/21755 */display: inline-block !important;position: relative;}#sk-container-id-2 div.sk-text-repr-fallback {display: none;}</style><div id=\"sk-container-id-2\" class=\"sk-top-container\"><div class=\"sk-text-repr-fallback\"><pre>LinearRegression()</pre><b>In a Jupyter environment, please rerun this cell to show the HTML representation or trust the notebook. <br />On GitHub, the HTML representation is unable to render, please try loading this page with nbviewer.org.</b></div><div class=\"sk-container\" hidden><div class=\"sk-item\"><div class=\"sk-estimator sk-toggleable\"><input class=\"sk-toggleable__control sk-hidden--visually\" id=\"sk-estimator-id-2\" type=\"checkbox\" checked><label for=\"sk-estimator-id-2\" class=\"sk-toggleable__label sk-toggleable__label-arrow\">LinearRegression</label><div class=\"sk-toggleable__content\"><pre>LinearRegression()</pre></div></div></div></div></div>"
            ]
          },
          "metadata": {},
          "execution_count": 30
        }
      ],
      "source": [
        "mlr= LinearRegression()  \n",
        "mlr.fit(x_train, y_train) "
      ]
    },
    {
      "cell_type": "code",
      "execution_count": 31,
      "metadata": {
        "colab": {
          "base_uri": "https://localhost:8080/"
        },
        "id": "bIbGEMpzXJjW",
        "outputId": "c9003a8a-c570-4a06-b5b1-a3698faa505b"
      },
      "outputs": [
        {
          "output_type": "stream",
          "name": "stdout",
          "text": [
            "4.334595861728431\n"
          ]
        },
        {
          "output_type": "execute_result",
          "data": {
            "text/plain": [
              "[('TV', 0.053829108667250075),\n",
              " ('Radio', 0.11001224388558054),\n",
              " ('Newspaper', 0.0062899501461303325)]"
            ]
          },
          "metadata": {},
          "execution_count": 31
        }
      ],
      "source": [
        "#Printing the model coefficients\n",
        "print(mlr.intercept_)\n",
        "# pair the feature names with the coefficients\n",
        "list(zip(x, mlr.coef_))"
      ]
    },
    {
      "cell_type": "code",
      "execution_count": 32,
      "metadata": {
        "id": "2Uu5BJujXJjW"
      },
      "outputs": [],
      "source": [
        "#Predicting the Test and Train set result \n",
        "y_pred_mlr= mlr.predict(x_test)  \n",
        "x_pred_mlr= mlr.predict(x_train)  "
      ]
    },
    {
      "cell_type": "code",
      "execution_count": 33,
      "metadata": {
        "colab": {
          "base_uri": "https://localhost:8080/"
        },
        "id": "zjIPPdedXJjW",
        "outputId": "e8c65894-2242-413c-8f81-e2e404383f0e"
      },
      "outputs": [
        {
          "output_type": "stream",
          "name": "stdout",
          "text": [
            "Prediction for test set: [ 9.35221067 20.96344625 16.48851064 20.10971005 21.67148354 16.16054424\n",
            " 13.5618056  15.39338129 20.81980757 21.00537077 12.29451311 20.70848608\n",
            "  8.17367308 16.82471534 10.48954832  9.99530649 16.34698901 14.5758119\n",
            " 17.23065133 12.56890735 18.55715915 12.12402775 20.43312609 17.78017811\n",
            " 16.73623408 21.60387629 20.13532087 10.82559967 19.12782848 14.84537816\n",
            " 13.13597397  9.07757918 12.07834143 16.62824427  8.41792841 14.0456697\n",
            "  9.92050209 14.26101605 16.76262961 17.17185467 18.88797595 15.50165469\n",
            " 15.78688377 16.86266686 13.03405813 10.47673934 10.6141644  20.85264977\n",
            " 10.1517568   6.88471443 17.88702583 18.16013938 12.55907083 16.28189561\n",
            " 18.98024679 11.33714913  5.91026916 10.06159509 17.62383031 13.19628335]\n"
          ]
        }
      ],
      "source": [
        "print(\"Prediction for test set: {}\".format(y_pred_mlr))"
      ]
    },
    {
      "cell_type": "code",
      "execution_count": 34,
      "metadata": {
        "colab": {
          "base_uri": "https://localhost:8080/",
          "height": 1000
        },
        "id": "XBF5w3wnXJjW",
        "outputId": "db7f599c-976c-4fde-f4d5-d564d73fbc5f"
      },
      "outputs": [
        {
          "output_type": "execute_result",
          "data": {
            "text/plain": [
              "     Actual value  Predicted value\n",
              "126           6.6         9.352211\n",
              "104          20.7        20.963446\n",
              "99           17.2        16.488511\n",
              "92           19.4        20.109710\n",
              "111          21.8        21.671484\n",
              "167          17.2        16.160544\n",
              "116          12.2        13.561806\n",
              "96           16.7        15.393381\n",
              "52           22.6        20.819808\n",
              "69           22.3        21.005371\n",
              "164          11.9        12.294513\n",
              "124          19.7        20.708486\n",
              "182           8.7         8.173673\n",
              "154          20.6        16.824715\n",
              "125          10.6        10.489548\n",
              "196          14.0         9.995306\n",
              "194          17.3        16.346989\n",
              "177          16.7        14.575812\n",
              "163          18.0        17.230651\n",
              "31           11.9        12.568907\n",
              "11           17.4        18.557159\n",
              "73           11.0        12.124028\n",
              "15           22.4        20.433126\n",
              "41           17.1        17.780178\n",
              "97           20.5        16.736234\n",
              "128          24.7        21.603876\n",
              "133          19.6        20.135321\n",
              "82           11.3        10.825600\n",
              "139          20.7        19.127828\n",
              "123          15.2        14.845378\n",
              "83           13.6        13.135974\n",
              "65           11.3         9.077579\n",
              "151          11.6        12.078341\n",
              "162          19.9        16.628244\n",
              "170           8.4         8.417928\n",
              "77           14.2        14.045670\n",
              "32           13.2         9.920502\n",
              "173          16.7        14.261016\n",
              "174          16.5        16.762630\n",
              "85           20.2        17.171855\n",
              "168          17.1        18.887976\n",
              "112          17.1        15.501655\n",
              "171          17.5        15.786884\n",
              "181          17.2        16.862667\n",
              "7            13.2        13.034058\n",
              "46           10.6        10.476739\n",
              "75            8.7        10.614164\n",
              "28           18.9        20.852650\n",
              "29           10.5        10.151757\n",
              "195           7.6         6.884714\n",
              "40           16.6        17.887026\n",
              "153          16.0        18.160139\n",
              "115          12.6        12.559071\n",
              "64           16.0        16.281896\n",
              "59           18.4        18.980247\n",
              "1            10.4        11.337149\n",
              "192           5.9         5.910269\n",
              "136           9.5        10.061595\n",
              "152          16.6        17.623830\n",
              "161          13.3        13.196283"
            ],
            "text/html": [
              "\n",
              "  <div id=\"df-4e8df638-65e7-413f-a58a-29e1caf665f7\">\n",
              "    <div class=\"colab-df-container\">\n",
              "      <div>\n",
              "<style scoped>\n",
              "    .dataframe tbody tr th:only-of-type {\n",
              "        vertical-align: middle;\n",
              "    }\n",
              "\n",
              "    .dataframe tbody tr th {\n",
              "        vertical-align: top;\n",
              "    }\n",
              "\n",
              "    .dataframe thead th {\n",
              "        text-align: right;\n",
              "    }\n",
              "</style>\n",
              "<table border=\"1\" class=\"dataframe\">\n",
              "  <thead>\n",
              "    <tr style=\"text-align: right;\">\n",
              "      <th></th>\n",
              "      <th>Actual value</th>\n",
              "      <th>Predicted value</th>\n",
              "    </tr>\n",
              "  </thead>\n",
              "  <tbody>\n",
              "    <tr>\n",
              "      <th>126</th>\n",
              "      <td>6.6</td>\n",
              "      <td>9.352211</td>\n",
              "    </tr>\n",
              "    <tr>\n",
              "      <th>104</th>\n",
              "      <td>20.7</td>\n",
              "      <td>20.963446</td>\n",
              "    </tr>\n",
              "    <tr>\n",
              "      <th>99</th>\n",
              "      <td>17.2</td>\n",
              "      <td>16.488511</td>\n",
              "    </tr>\n",
              "    <tr>\n",
              "      <th>92</th>\n",
              "      <td>19.4</td>\n",
              "      <td>20.109710</td>\n",
              "    </tr>\n",
              "    <tr>\n",
              "      <th>111</th>\n",
              "      <td>21.8</td>\n",
              "      <td>21.671484</td>\n",
              "    </tr>\n",
              "    <tr>\n",
              "      <th>167</th>\n",
              "      <td>17.2</td>\n",
              "      <td>16.160544</td>\n",
              "    </tr>\n",
              "    <tr>\n",
              "      <th>116</th>\n",
              "      <td>12.2</td>\n",
              "      <td>13.561806</td>\n",
              "    </tr>\n",
              "    <tr>\n",
              "      <th>96</th>\n",
              "      <td>16.7</td>\n",
              "      <td>15.393381</td>\n",
              "    </tr>\n",
              "    <tr>\n",
              "      <th>52</th>\n",
              "      <td>22.6</td>\n",
              "      <td>20.819808</td>\n",
              "    </tr>\n",
              "    <tr>\n",
              "      <th>69</th>\n",
              "      <td>22.3</td>\n",
              "      <td>21.005371</td>\n",
              "    </tr>\n",
              "    <tr>\n",
              "      <th>164</th>\n",
              "      <td>11.9</td>\n",
              "      <td>12.294513</td>\n",
              "    </tr>\n",
              "    <tr>\n",
              "      <th>124</th>\n",
              "      <td>19.7</td>\n",
              "      <td>20.708486</td>\n",
              "    </tr>\n",
              "    <tr>\n",
              "      <th>182</th>\n",
              "      <td>8.7</td>\n",
              "      <td>8.173673</td>\n",
              "    </tr>\n",
              "    <tr>\n",
              "      <th>154</th>\n",
              "      <td>20.6</td>\n",
              "      <td>16.824715</td>\n",
              "    </tr>\n",
              "    <tr>\n",
              "      <th>125</th>\n",
              "      <td>10.6</td>\n",
              "      <td>10.489548</td>\n",
              "    </tr>\n",
              "    <tr>\n",
              "      <th>196</th>\n",
              "      <td>14.0</td>\n",
              "      <td>9.995306</td>\n",
              "    </tr>\n",
              "    <tr>\n",
              "      <th>194</th>\n",
              "      <td>17.3</td>\n",
              "      <td>16.346989</td>\n",
              "    </tr>\n",
              "    <tr>\n",
              "      <th>177</th>\n",
              "      <td>16.7</td>\n",
              "      <td>14.575812</td>\n",
              "    </tr>\n",
              "    <tr>\n",
              "      <th>163</th>\n",
              "      <td>18.0</td>\n",
              "      <td>17.230651</td>\n",
              "    </tr>\n",
              "    <tr>\n",
              "      <th>31</th>\n",
              "      <td>11.9</td>\n",
              "      <td>12.568907</td>\n",
              "    </tr>\n",
              "    <tr>\n",
              "      <th>11</th>\n",
              "      <td>17.4</td>\n",
              "      <td>18.557159</td>\n",
              "    </tr>\n",
              "    <tr>\n",
              "      <th>73</th>\n",
              "      <td>11.0</td>\n",
              "      <td>12.124028</td>\n",
              "    </tr>\n",
              "    <tr>\n",
              "      <th>15</th>\n",
              "      <td>22.4</td>\n",
              "      <td>20.433126</td>\n",
              "    </tr>\n",
              "    <tr>\n",
              "      <th>41</th>\n",
              "      <td>17.1</td>\n",
              "      <td>17.780178</td>\n",
              "    </tr>\n",
              "    <tr>\n",
              "      <th>97</th>\n",
              "      <td>20.5</td>\n",
              "      <td>16.736234</td>\n",
              "    </tr>\n",
              "    <tr>\n",
              "      <th>128</th>\n",
              "      <td>24.7</td>\n",
              "      <td>21.603876</td>\n",
              "    </tr>\n",
              "    <tr>\n",
              "      <th>133</th>\n",
              "      <td>19.6</td>\n",
              "      <td>20.135321</td>\n",
              "    </tr>\n",
              "    <tr>\n",
              "      <th>82</th>\n",
              "      <td>11.3</td>\n",
              "      <td>10.825600</td>\n",
              "    </tr>\n",
              "    <tr>\n",
              "      <th>139</th>\n",
              "      <td>20.7</td>\n",
              "      <td>19.127828</td>\n",
              "    </tr>\n",
              "    <tr>\n",
              "      <th>123</th>\n",
              "      <td>15.2</td>\n",
              "      <td>14.845378</td>\n",
              "    </tr>\n",
              "    <tr>\n",
              "      <th>83</th>\n",
              "      <td>13.6</td>\n",
              "      <td>13.135974</td>\n",
              "    </tr>\n",
              "    <tr>\n",
              "      <th>65</th>\n",
              "      <td>11.3</td>\n",
              "      <td>9.077579</td>\n",
              "    </tr>\n",
              "    <tr>\n",
              "      <th>151</th>\n",
              "      <td>11.6</td>\n",
              "      <td>12.078341</td>\n",
              "    </tr>\n",
              "    <tr>\n",
              "      <th>162</th>\n",
              "      <td>19.9</td>\n",
              "      <td>16.628244</td>\n",
              "    </tr>\n",
              "    <tr>\n",
              "      <th>170</th>\n",
              "      <td>8.4</td>\n",
              "      <td>8.417928</td>\n",
              "    </tr>\n",
              "    <tr>\n",
              "      <th>77</th>\n",
              "      <td>14.2</td>\n",
              "      <td>14.045670</td>\n",
              "    </tr>\n",
              "    <tr>\n",
              "      <th>32</th>\n",
              "      <td>13.2</td>\n",
              "      <td>9.920502</td>\n",
              "    </tr>\n",
              "    <tr>\n",
              "      <th>173</th>\n",
              "      <td>16.7</td>\n",
              "      <td>14.261016</td>\n",
              "    </tr>\n",
              "    <tr>\n",
              "      <th>174</th>\n",
              "      <td>16.5</td>\n",
              "      <td>16.762630</td>\n",
              "    </tr>\n",
              "    <tr>\n",
              "      <th>85</th>\n",
              "      <td>20.2</td>\n",
              "      <td>17.171855</td>\n",
              "    </tr>\n",
              "    <tr>\n",
              "      <th>168</th>\n",
              "      <td>17.1</td>\n",
              "      <td>18.887976</td>\n",
              "    </tr>\n",
              "    <tr>\n",
              "      <th>112</th>\n",
              "      <td>17.1</td>\n",
              "      <td>15.501655</td>\n",
              "    </tr>\n",
              "    <tr>\n",
              "      <th>171</th>\n",
              "      <td>17.5</td>\n",
              "      <td>15.786884</td>\n",
              "    </tr>\n",
              "    <tr>\n",
              "      <th>181</th>\n",
              "      <td>17.2</td>\n",
              "      <td>16.862667</td>\n",
              "    </tr>\n",
              "    <tr>\n",
              "      <th>7</th>\n",
              "      <td>13.2</td>\n",
              "      <td>13.034058</td>\n",
              "    </tr>\n",
              "    <tr>\n",
              "      <th>46</th>\n",
              "      <td>10.6</td>\n",
              "      <td>10.476739</td>\n",
              "    </tr>\n",
              "    <tr>\n",
              "      <th>75</th>\n",
              "      <td>8.7</td>\n",
              "      <td>10.614164</td>\n",
              "    </tr>\n",
              "    <tr>\n",
              "      <th>28</th>\n",
              "      <td>18.9</td>\n",
              "      <td>20.852650</td>\n",
              "    </tr>\n",
              "    <tr>\n",
              "      <th>29</th>\n",
              "      <td>10.5</td>\n",
              "      <td>10.151757</td>\n",
              "    </tr>\n",
              "    <tr>\n",
              "      <th>195</th>\n",
              "      <td>7.6</td>\n",
              "      <td>6.884714</td>\n",
              "    </tr>\n",
              "    <tr>\n",
              "      <th>40</th>\n",
              "      <td>16.6</td>\n",
              "      <td>17.887026</td>\n",
              "    </tr>\n",
              "    <tr>\n",
              "      <th>153</th>\n",
              "      <td>16.0</td>\n",
              "      <td>18.160139</td>\n",
              "    </tr>\n",
              "    <tr>\n",
              "      <th>115</th>\n",
              "      <td>12.6</td>\n",
              "      <td>12.559071</td>\n",
              "    </tr>\n",
              "    <tr>\n",
              "      <th>64</th>\n",
              "      <td>16.0</td>\n",
              "      <td>16.281896</td>\n",
              "    </tr>\n",
              "    <tr>\n",
              "      <th>59</th>\n",
              "      <td>18.4</td>\n",
              "      <td>18.980247</td>\n",
              "    </tr>\n",
              "    <tr>\n",
              "      <th>1</th>\n",
              "      <td>10.4</td>\n",
              "      <td>11.337149</td>\n",
              "    </tr>\n",
              "    <tr>\n",
              "      <th>192</th>\n",
              "      <td>5.9</td>\n",
              "      <td>5.910269</td>\n",
              "    </tr>\n",
              "    <tr>\n",
              "      <th>136</th>\n",
              "      <td>9.5</td>\n",
              "      <td>10.061595</td>\n",
              "    </tr>\n",
              "    <tr>\n",
              "      <th>152</th>\n",
              "      <td>16.6</td>\n",
              "      <td>17.623830</td>\n",
              "    </tr>\n",
              "    <tr>\n",
              "      <th>161</th>\n",
              "      <td>13.3</td>\n",
              "      <td>13.196283</td>\n",
              "    </tr>\n",
              "  </tbody>\n",
              "</table>\n",
              "</div>\n",
              "      <button class=\"colab-df-convert\" onclick=\"convertToInteractive('df-4e8df638-65e7-413f-a58a-29e1caf665f7')\"\n",
              "              title=\"Convert this dataframe to an interactive table.\"\n",
              "              style=\"display:none;\">\n",
              "        \n",
              "  <svg xmlns=\"http://www.w3.org/2000/svg\" height=\"24px\"viewBox=\"0 0 24 24\"\n",
              "       width=\"24px\">\n",
              "    <path d=\"M0 0h24v24H0V0z\" fill=\"none\"/>\n",
              "    <path d=\"M18.56 5.44l.94 2.06.94-2.06 2.06-.94-2.06-.94-.94-2.06-.94 2.06-2.06.94zm-11 1L8.5 8.5l.94-2.06 2.06-.94-2.06-.94L8.5 2.5l-.94 2.06-2.06.94zm10 10l.94 2.06.94-2.06 2.06-.94-2.06-.94-.94-2.06-.94 2.06-2.06.94z\"/><path d=\"M17.41 7.96l-1.37-1.37c-.4-.4-.92-.59-1.43-.59-.52 0-1.04.2-1.43.59L10.3 9.45l-7.72 7.72c-.78.78-.78 2.05 0 2.83L4 21.41c.39.39.9.59 1.41.59.51 0 1.02-.2 1.41-.59l7.78-7.78 2.81-2.81c.8-.78.8-2.07 0-2.86zM5.41 20L4 18.59l7.72-7.72 1.47 1.35L5.41 20z\"/>\n",
              "  </svg>\n",
              "      </button>\n",
              "      \n",
              "  <style>\n",
              "    .colab-df-container {\n",
              "      display:flex;\n",
              "      flex-wrap:wrap;\n",
              "      gap: 12px;\n",
              "    }\n",
              "\n",
              "    .colab-df-convert {\n",
              "      background-color: #E8F0FE;\n",
              "      border: none;\n",
              "      border-radius: 50%;\n",
              "      cursor: pointer;\n",
              "      display: none;\n",
              "      fill: #1967D2;\n",
              "      height: 32px;\n",
              "      padding: 0 0 0 0;\n",
              "      width: 32px;\n",
              "    }\n",
              "\n",
              "    .colab-df-convert:hover {\n",
              "      background-color: #E2EBFA;\n",
              "      box-shadow: 0px 1px 2px rgba(60, 64, 67, 0.3), 0px 1px 3px 1px rgba(60, 64, 67, 0.15);\n",
              "      fill: #174EA6;\n",
              "    }\n",
              "\n",
              "    [theme=dark] .colab-df-convert {\n",
              "      background-color: #3B4455;\n",
              "      fill: #D2E3FC;\n",
              "    }\n",
              "\n",
              "    [theme=dark] .colab-df-convert:hover {\n",
              "      background-color: #434B5C;\n",
              "      box-shadow: 0px 1px 3px 1px rgba(0, 0, 0, 0.15);\n",
              "      filter: drop-shadow(0px 1px 2px rgba(0, 0, 0, 0.3));\n",
              "      fill: #FFFFFF;\n",
              "    }\n",
              "  </style>\n",
              "\n",
              "      <script>\n",
              "        const buttonEl =\n",
              "          document.querySelector('#df-4e8df638-65e7-413f-a58a-29e1caf665f7 button.colab-df-convert');\n",
              "        buttonEl.style.display =\n",
              "          google.colab.kernel.accessAllowed ? 'block' : 'none';\n",
              "\n",
              "        async function convertToInteractive(key) {\n",
              "          const element = document.querySelector('#df-4e8df638-65e7-413f-a58a-29e1caf665f7');\n",
              "          const dataTable =\n",
              "            await google.colab.kernel.invokeFunction('convertToInteractive',\n",
              "                                                     [key], {});\n",
              "          if (!dataTable) return;\n",
              "\n",
              "          const docLinkHtml = 'Like what you see? Visit the ' +\n",
              "            '<a target=\"_blank\" href=https://colab.research.google.com/notebooks/data_table.ipynb>data table notebook</a>'\n",
              "            + ' to learn more about interactive tables.';\n",
              "          element.innerHTML = '';\n",
              "          dataTable['output_type'] = 'display_data';\n",
              "          await google.colab.output.renderOutput(dataTable, element);\n",
              "          const docLink = document.createElement('div');\n",
              "          docLink.innerHTML = docLinkHtml;\n",
              "          element.appendChild(docLink);\n",
              "        }\n",
              "      </script>\n",
              "    </div>\n",
              "  </div>\n",
              "  "
            ]
          },
          "metadata": {},
          "execution_count": 34
        }
      ],
      "source": [
        "#Actual value and the predicted value\n",
        "mlr_diff = pd.DataFrame({'Actual value': y_test, 'Predicted value': y_pred_mlr})\n",
        "mlr_diff"
      ]
    },
    {
      "cell_type": "code",
      "execution_count": 35,
      "metadata": {
        "colab": {
          "base_uri": "https://localhost:8080/"
        },
        "id": "UGVuHKnIXJjX",
        "outputId": "b2161711-4bab-46b1-deb4-200f1994df38"
      },
      "outputs": [
        {
          "output_type": "stream",
          "name": "stderr",
          "text": [
            "/usr/local/lib/python3.9/dist-packages/sklearn/base.py:420: UserWarning: X does not have valid feature names, but LinearRegression was fitted with feature names\n",
            "  warnings.warn(\n"
          ]
        },
        {
          "output_type": "execute_result",
          "data": {
            "text/plain": [
              "array([13.82112602])"
            ]
          },
          "metadata": {},
          "execution_count": 35
        }
      ],
      "source": [
        "#Predict for any value\n",
        "mlr.predict([[56, 55, 67]])"
      ]
    },
    {
      "cell_type": "markdown",
      "metadata": {
        "id": "bU-TYCYtXJjX"
      },
      "source": [
        "**Conclusion:** The model predicted the Sales of 13.82 in that market"
      ]
    },
    {
      "cell_type": "code",
      "execution_count": 36,
      "metadata": {
        "colab": {
          "base_uri": "https://localhost:8080/"
        },
        "id": "AUzK5dJoXJjX",
        "outputId": "bf2c3a2b-d3c9-4501-8a56-7fb8db942093"
      },
      "outputs": [
        {
          "output_type": "stream",
          "name": "stdout",
          "text": [
            "R squared value of the model: 90.11\n"
          ]
        }
      ],
      "source": [
        "# print the R-squared value for the model\n",
        "print('R squared value of the model: {:.2f}'.format(mlr.score(x,y)*100))"
      ]
    },
    {
      "cell_type": "markdown",
      "metadata": {
        "id": "UetDHg2-XJjX"
      },
      "source": [
        "**Conclusion:** 90.21% of the data fit the multiple regression model"
      ]
    },
    {
      "cell_type": "code",
      "execution_count": 37,
      "metadata": {
        "colab": {
          "base_uri": "https://localhost:8080/"
        },
        "id": "6sPJd8b0XJjX",
        "outputId": "cdcf94df-e229-4e17-ef19-31be549484a8"
      },
      "outputs": [
        {
          "output_type": "stream",
          "name": "stdout",
          "text": [
            "Mean Absolute Error: 1.227818356658941\n",
            "Mean Square Error: 2.6360765623280655\n",
            "Root Mean Square Error: 1.623599877533891\n"
          ]
        }
      ],
      "source": [
        "# 0 means the model is perfect. Therefore the value should be as close to 0 as possible\n",
        "meanAbErr = metrics.mean_absolute_error(y_test, y_pred_mlr)\n",
        "meanSqErr = metrics.mean_squared_error(y_test, y_pred_mlr)\n",
        "rootMeanSqErr = np.sqrt(metrics.mean_squared_error(y_test, y_pred_mlr))\n",
        "\n",
        "print('Mean Absolute Error:', meanAbErr)\n",
        "print('Mean Square Error:', meanSqErr)\n",
        "print('Root Mean Square Error:', rootMeanSqErr)"
      ]
    }
  ],
  "metadata": {
    "kernelspec": {
      "display_name": "Python 3",
      "language": "python",
      "name": "python3"
    },
    "language_info": {
      "codemirror_mode": {
        "name": "ipython",
        "version": 3
      },
      "file_extension": ".py",
      "mimetype": "text/x-python",
      "name": "python",
      "nbconvert_exporter": "python",
      "pygments_lexer": "ipython3",
      "version": "3.8.3"
    },
    "colab": {
      "provenance": []
    }
  },
  "nbformat": 4,
  "nbformat_minor": 0
}